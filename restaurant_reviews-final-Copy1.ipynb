{
 "cells": [
  {
   "cell_type": "code",
   "execution_count": 1,
   "metadata": {},
   "outputs": [],
   "source": [
    "import numpy as np\n",
    "import pandas as pd\n",
    "import matplotlib.pyplot as mltpt\n",
    "import nltk\n",
    "%matplotlib inline"
   ]
  },
  {
   "cell_type": "code",
   "execution_count": 2,
   "metadata": {},
   "outputs": [],
   "source": [
    "data = pd.read_csv('realdata.csv', names=['reviews','liked'])"
   ]
  },
  {
   "cell_type": "code",
   "execution_count": 3,
   "metadata": {},
   "outputs": [],
   "source": [
    "data = data.iloc[1:]"
   ]
  },
  {
   "cell_type": "code",
   "execution_count": 4,
   "metadata": {},
   "outputs": [
    {
     "data": {
      "text/html": [
       "<div>\n",
       "<style scoped>\n",
       "    .dataframe tbody tr th:only-of-type {\n",
       "        vertical-align: middle;\n",
       "    }\n",
       "\n",
       "    .dataframe tbody tr th {\n",
       "        vertical-align: top;\n",
       "    }\n",
       "\n",
       "    .dataframe thead th {\n",
       "        text-align: right;\n",
       "    }\n",
       "</style>\n",
       "<table border=\"1\" class=\"dataframe\">\n",
       "  <thead>\n",
       "    <tr style=\"text-align: right;\">\n",
       "      <th></th>\n",
       "      <th>reviews</th>\n",
       "      <th>liked</th>\n",
       "    </tr>\n",
       "  </thead>\n",
       "  <tbody>\n",
       "    <tr>\n",
       "      <th>1</th>\n",
       "      <td>Food was good in taste unlike other hotels. Th...</td>\n",
       "      <td>1</td>\n",
       "    </tr>\n",
       "    <tr>\n",
       "      <th>2</th>\n",
       "      <td>They serves good, pure and fresh food with qua...</td>\n",
       "      <td>1</td>\n",
       "    </tr>\n",
       "    <tr>\n",
       "      <th>3</th>\n",
       "      <td>The property is located on the main road and i...</td>\n",
       "      <td>1</td>\n",
       "    </tr>\n",
       "    <tr>\n",
       "      <th>4</th>\n",
       "      <td>I am regular guest of this hotel but my recent...</td>\n",
       "      <td>1</td>\n",
       "    </tr>\n",
       "    <tr>\n",
       "      <th>5</th>\n",
       "      <td>It was a awesome experience to have a dinner a...</td>\n",
       "      <td>1</td>\n",
       "    </tr>\n",
       "  </tbody>\n",
       "</table>\n",
       "</div>"
      ],
      "text/plain": [
       "                                             reviews  liked\n",
       "1  Food was good in taste unlike other hotels. Th...      1\n",
       "2  They serves good, pure and fresh food with qua...      1\n",
       "3  The property is located on the main road and i...      1\n",
       "4  I am regular guest of this hotel but my recent...      1\n",
       "5  It was a awesome experience to have a dinner a...      1"
      ]
     },
     "execution_count": 4,
     "metadata": {},
     "output_type": "execute_result"
    }
   ],
   "source": [
    "data.head()"
   ]
  },
  {
   "cell_type": "code",
   "execution_count": 5,
   "metadata": {},
   "outputs": [
    {
     "name": "stdout",
     "output_type": "stream",
     "text": [
      "<class 'pandas.core.frame.DataFrame'>\n",
      "RangeIndex: 1020 entries, 1 to 1020\n",
      "Data columns (total 2 columns):\n",
      " #   Column   Non-Null Count  Dtype \n",
      "---  ------   --------------  ----- \n",
      " 0   reviews  1020 non-null   object\n",
      " 1   liked    1020 non-null   int64 \n",
      "dtypes: int64(1), object(1)\n",
      "memory usage: 16.1+ KB\n"
     ]
    }
   ],
   "source": [
    "data.info()"
   ]
  },
  {
   "cell_type": "code",
   "execution_count": 6,
   "metadata": {},
   "outputs": [
    {
     "data": {
      "text/plain": [
       "1    624\n",
       "0    396\n",
       "Name: liked, dtype: int64"
      ]
     },
     "execution_count": 6,
     "metadata": {},
     "output_type": "execute_result"
    }
   ],
   "source": [
    "data.liked.value_counts()"
   ]
  },
  {
   "cell_type": "markdown",
   "metadata": {},
   "source": [
    "#tokenization is the task of chopping it up into pieces, called tokens, perhaps at the same time throwing away certain characters, such as punctuation."
   ]
  },
  {
   "cell_type": "code",
   "execution_count": 7,
   "metadata": {},
   "outputs": [
    {
     "data": {
      "text/html": [
       "<div>\n",
       "<style scoped>\n",
       "    .dataframe tbody tr th:only-of-type {\n",
       "        vertical-align: middle;\n",
       "    }\n",
       "\n",
       "    .dataframe tbody tr th {\n",
       "        vertical-align: top;\n",
       "    }\n",
       "\n",
       "    .dataframe thead th {\n",
       "        text-align: right;\n",
       "    }\n",
       "</style>\n",
       "<table border=\"1\" class=\"dataframe\">\n",
       "  <thead>\n",
       "    <tr style=\"text-align: right;\">\n",
       "      <th></th>\n",
       "      <th>reviews</th>\n",
       "      <th>liked</th>\n",
       "      <th>review_clean</th>\n",
       "    </tr>\n",
       "  </thead>\n",
       "  <tbody>\n",
       "    <tr>\n",
       "      <th>1</th>\n",
       "      <td>Food was good in taste unlike other hotels. Th...</td>\n",
       "      <td>1</td>\n",
       "      <td>food good taste unlike hotels serve fast order...</td>\n",
       "    </tr>\n",
       "    <tr>\n",
       "      <th>2</th>\n",
       "      <td>They serves good, pure and fresh food with qua...</td>\n",
       "      <td>1</td>\n",
       "      <td>serves good pure fresh food quality centric ap...</td>\n",
       "    </tr>\n",
       "    <tr>\n",
       "      <th>3</th>\n",
       "      <td>The property is located on the main road and i...</td>\n",
       "      <td>1</td>\n",
       "      <td>property located main road well known locality...</td>\n",
       "    </tr>\n",
       "    <tr>\n",
       "      <th>4</th>\n",
       "      <td>I am regular guest of this hotel but my recent...</td>\n",
       "      <td>1</td>\n",
       "      <td>regular guest hotel recent visit comfort nice ...</td>\n",
       "    </tr>\n",
       "    <tr>\n",
       "      <th>5</th>\n",
       "      <td>It was a awesome experience to have a dinner a...</td>\n",
       "      <td>1</td>\n",
       "      <td>awesome experience dinner restaurant reasonabl...</td>\n",
       "    </tr>\n",
       "    <tr>\n",
       "      <th>6</th>\n",
       "      <td>I would recommend this restaurant for family a...</td>\n",
       "      <td>1</td>\n",
       "      <td>would recommend restaurant family well busines...</td>\n",
       "    </tr>\n",
       "    <tr>\n",
       "      <th>7</th>\n",
       "      <td>Taste-wise the food is certainly above average.</td>\n",
       "      <td>1</td>\n",
       "      <td>taste-wise food certainly average.</td>\n",
       "    </tr>\n",
       "    <tr>\n",
       "      <th>8</th>\n",
       "      <td>Food quality is good with reasonable price. Se...</td>\n",
       "      <td>1</td>\n",
       "      <td>food quality good reasonable price seating arr...</td>\n",
       "    </tr>\n",
       "    <tr>\n",
       "      <th>9</th>\n",
       "      <td>good service</td>\n",
       "      <td>1</td>\n",
       "      <td>good service</td>\n",
       "    </tr>\n",
       "    <tr>\n",
       "      <th>10</th>\n",
       "      <td>not recommend</td>\n",
       "      <td>0</td>\n",
       "      <td>recommend</td>\n",
       "    </tr>\n",
       "  </tbody>\n",
       "</table>\n",
       "</div>"
      ],
      "text/plain": [
       "                                              reviews  liked  \\\n",
       "1   Food was good in taste unlike other hotels. Th...      1   \n",
       "2   They serves good, pure and fresh food with qua...      1   \n",
       "3   The property is located on the main road and i...      1   \n",
       "4   I am regular guest of this hotel but my recent...      1   \n",
       "5   It was a awesome experience to have a dinner a...      1   \n",
       "6   I would recommend this restaurant for family a...      1   \n",
       "7    Taste-wise the food is certainly above average.       1   \n",
       "8   Food quality is good with reasonable price. Se...      1   \n",
       "9                                        good service      1   \n",
       "10                                      not recommend      0   \n",
       "\n",
       "                                         review_clean  \n",
       "1   food good taste unlike hotels serve fast order...  \n",
       "2   serves good pure fresh food quality centric ap...  \n",
       "3   property located main road well known locality...  \n",
       "4   regular guest hotel recent visit comfort nice ...  \n",
       "5   awesome experience dinner restaurant reasonabl...  \n",
       "6   would recommend restaurant family well busines...  \n",
       "7                 taste-wise food certainly average.   \n",
       "8   food quality good reasonable price seating arr...  \n",
       "9                                        good service  \n",
       "10                                          recommend  "
      ]
     },
     "execution_count": 7,
     "metadata": {},
     "output_type": "execute_result"
    }
   ],
   "source": [
    "import string\n",
    "from nltk import pos_tag\n",
    "from nltk.corpus import stopwords\n",
    "from nltk.tokenize import WhitespaceTokenizer\n",
    "\n",
    "def clean_text(text):\n",
    "    # lower text\n",
    "    text = text.lower()\n",
    "    # tokenize text and remove puncutation from either side of the word\n",
    "    text = [word.strip(string.punctuation) for word in text.split(\" \")]\n",
    "    # remove words that contain numbers\n",
    "    text = [word for word in text if not any(c.isdigit() for c in word)]\n",
    "    # remove stop words\n",
    "    stop = stopwords.words('english')\n",
    "    text = [x for x in text if x not in stop]\n",
    "    # remove empty tokens\n",
    "    text = [t for t in text if len(t) > 0]\n",
    "    # remove words with only one letter\n",
    "    text = [t for t in text if len(t) > 1]\n",
    "    # join all\n",
    "    text = \" \".join(text)\n",
    "    return(text)\n",
    "data[\"review_clean\"] = data[\"reviews\"].apply(lambda x: clean_text(x))\n",
    "data['review_clean']\n",
    "data.head(10)"
   ]
  },
  {
   "cell_type": "code",
   "execution_count": 11,
   "metadata": {
    "scrolled": false
   },
   "outputs": [
    {
     "name": "stdout",
     "output_type": "stream",
     "text": [
      "{'food': 511, 'good': 561, 'taste': 1326, 'unlike': 1417, 'hotels': 620, 'serve': 1181, 'fast': 478, 'order': 910, 'cleaning': 224, 'great': 570, 'front': 531, 'side': 1200, 'parking': 948, 'available': 79, 'serves': 1185, 'pure': 1039, 'fresh': 524, 'quality': 1043, 'centric': 186, 'approach': 50, 'restaurant': 1104, 'items': 671, 'property': 1028, 'located': 733, 'main': 758, 'road': 1118, 'well': 1493, 'known': 698, 'locality': 732, 'consistent': 261, 'service': 1186, 'also': 22, 'rates': 1054, 'cheap': 200, 'worth': 1526, 'trying': 1393, 'regular': 1081, 'guest': 579, 'hotel': 619, 'recent': 1067, 'visit': 1458, 'comfort': 237, 'nice': 869, 'awesome': 84, 'experience': 459, 'dinner': 369, 'reasonable': 1062, 'serving': 1188, 'would': 1529, 'recommend': 1071, 'family': 474, 'business': 157, 'lunch': 753, 'wise': 1509, 'certainly': 187, 'average': 81, 'price': 1012, 'seating': 1170, 'arrangement': 57, 'pretty': 1011, 'tasteless': 1328, 'delicious': 344, 'money': 832, 'timely': 1364, 'something': 1233, 'new': 868, 'variety': 1440, 'must': 850, 'worst': 1525, 'arrogant': 59, 'people': 964, 'ever': 437, 'even': 433, 'dont': 387, 'know': 696, 'talk': 1323, 'best': 114, 'place': 979, 'for': 515, 'with': 1512, 'punjabi': 1038, 'and': 35, 'parcel': 947, 'served': 1182, 'staff': 1267, 'was': 1475, 'professionalism': 1022, 'services': 1187, 'at': 71, 'reliable': 1085, 'decreased': 333, 'lot': 741, 'found': 520, 'cockroach': 232, 'times': 1365, 'really': 1061, 'disguisting': 378, 'quantity': 1044, 'went': 1494, 'many': 778, 'pricing': 1016, 'sitting': 1214, 'maintain': 759, 'specially': 1248, 'love': 744, 'paneer': 939, 'sabjis': 1137, 've': 1442, 'ordered': 911, 'fix': 501, 'give': 549, 'treat': 1385, 'friends': 529, 'made': 756, 'feel': 485, 'embarrassing': 411, 'cz': 309, 'received': 1066, 'butter': 160, 'milk': 813, 'pathetic': 958, 'one': 899, 'along': 21, 'visited': 1459, 'time': 1363, 'maintained': 760, 'pleasant': 989, 'dine': 367, 'tasty': 1331, 'condition': 251, 'employees': 414, 'friendly': 528, 'enjoyable': 418, 'special': 1247, 'tea': 1335, 'lovers': 748, 'enjoyed': 419, 'decent': 326, 'it': 667, 'yummy': 1543, 'clean': 222, 'mid': 811, 'level': 712, 'open': 903, 'ac': 3, 'dining': 368, 'hall': 590, 'facility': 469, 'near': 860, 'working': 1522, 'favourite': 483, 'horrible': 616, 'bad': 88, 'curry': 303, 'tasted': 1327, 'awful': 85, 'proper': 1026, 'no': 872, 'arrangements': 58, 'guests': 580, 'poor': 1000, 'interior': 662, 'washroom': 1476, 'like': 720, 'public': 1033, 'toilets': 1371, 'dirty': 371, 'smelling': 1226, 'bit': 125, 'stale': 1270, 'small': 1224, 'get': 547, 'together': 1369, 'around': 54, 'hair': 588, 'starter': 1277, 'ridiculous': 1113, 'rooms': 1124, 'hygienic': 630, 'pillows': 976, 'torn': 1375, 'blanket': 128, 'without': 1515, 'cover': 293, 'breakfast': 148, 'poha': 995, 'eatable': 403, 'due': 395, 'hard': 596, 'grains': 565, 'veg': 1443, 'sandwich': 1146, 'gross': 573, 'menu': 807, 'disappointing': 374, 'morningtime': 838, 'beakfast': 103, 'prepared': 1009, 'much': 845, 'late': 703, 'opening': 904, 'menus': 808, 'mentioned': 806, 'details': 356, 'becomes': 106, 'foreign': 516, 'customer': 305, 'outdated': 921, 'innova': 655, 'provided': 1030, 'local': 731, 'meetings': 800, 'need': 864, 'improve': 643, 'high': 607, 'manipulation': 774, 'customers': 306, 'manager': 771, 'restaurants': 1105, 'mouth': 841, 'watering': 1482, 'foods': 514, 'rude': 1131, 'unprofessional': 1420, 'especially': 430, 'managers': 772, 'hospitality': 617, 'never': 867, 'add': 11, 'misery': 820, 'waiters': 1467, 'delivered': 346, 'waste': 1479, 'spoil': 1259, 'moment': 830, 'super': 1301, 'kind': 691, 'benevolent': 113, 'course': 289, 'happy': 595, 'surely': 1307, 'revisit': 1111, 'politely': 998, 'ambience': 28, 'sanitation': 1147, 'ugly': 1401, 'members': 803, 'develop': 357, 'gastric': 544, 'problems': 1020, 'hygiene': 629, 'peaceful': 962, 'town': 1380, 'more': 837, 'if': 638, 'choices': 214, 'stay': 1280, 'hungry': 626, 'soup': 1240, 'terrible': 1339, 'change': 191, 'chef': 208, 'earliest': 399, 'simple': 1203, 'yet': 1539, 'superb': 1302, 'pizza': 978, 'starters': 1278, 'prompt': 1025, 'varieties': 1439, 'dishes': 380, 'wastage': 1478, 'supportive': 1304, 'we': 1485, 'wait': 1464, 'longer': 736, 'minutes': 819, 'someone': 1232, 'noticed': 884, 'us': 1428, 'practically': 1003, 'empty': 415, 'mediocre': 795, 'too': 1372, 'recommending': 1074, 'anybody': 40, 'yaa': 1535, 'eating': 405, 'name': 855, 'boasts': 133, 'nan': 856, 'undercooked': 1406, 'thick': 1351, 'chewy': 209, 'chicken': 210, 'look': 737, 'smell': 1225, 'packing': 934, 'leaking': 707, 'flavourless': 504, 'packaging': 932, 'issue': 665, 'everywhere': 443, 'spicy': 1257, 'make': 763, 'less': 711, 'everyone': 440, 'eat': 402, 'uncoporative': 1405, 'salad': 1144, 'provide': 1029, 'thali': 1342, 'vessels': 1454, 'full': 536, 'orders': 913, 'misplaced': 821, 'needs': 865, 'improved': 644, 'cold': 233, 'option': 906, 'bread': 147, 'limited': 724, 'things': 1354, 'long': 735, 'placing': 982, 'quicken': 1047, 'up': 1422, 'cant': 172, 'washrooms': 1477, 'neat': 863, 'overall': 925, 'bedroom': 108, 'view': 1455, 'music': 848, 'almost': 20, 'night': 871, 'corridor': 281, 'want': 1472, 'stop': 1286, 'room': 1123, 'maintenance': 762, 'could': 285, 'better': 115, 'last': 702, 'visits': 1462, 'month': 835, 'surprised': 1308, 'become': 105, 'forever': 518, 'check': 203, 'today': 1368, 'managing': 773, 'reception': 1069, 'checking': 204, 'come': 235, 'continental': 265, 'choice': 213, 'westerners': 1496, 'yesterday': 1538, 'regenta': 1078, 'chinese': 212, 'refill': 1076, 'buffet': 153, 'containers': 264, 'finally': 492, 'important': 640, 'exception': 448, 'towels': 1379, 'sometimes': 1234, 'big': 121, 'swimming': 1313, 'pool': 999, 'hassel': 597, 'free': 521, 'keep': 685, 'mark': 779, 'reponsive': 1093, 'requests': 1095, 'bharuch': 118, 'may': 790, 'monotonous': 834, 'definitely': 337, 'recommended': 1073, 'as': 62, 'modifying': 829, 'cancelling': 168, 'wrongly': 1534, 'booked': 136, 'ticket': 1362, 'extremely': 464, 'dupe': 398, 'extra': 463, 'charge': 193, 'twice': 1396, 'accept': 4, 'mistake': 824, 'sad': 1138, 'see': 1171, 'low': 750, 'levels': 713, 'go': 555, 'going': 559, 'back': 87, 'anyone': 41, 'toilet': 1370, 'space': 1244, 'current': 302, 'scenario': 1161, 'difficult': 362, 'stand': 1272, 'unfriendly': 1413, 'got': 562, 'annoyed': 38, 'communications': 243, 'skills': 1220, 'later': 704, 'kept': 686, 'baggage': 89, 'conformable': 255, 'dahej': 311, 'region': 1079, 'warm': 1474, 'traveling': 1383, 'ankleshwar': 36, 'jaghadia': 673, 'nearyby': 862, 'shaf': 1191, 'deserts': 350, 'sizzlers': 1218, 'came': 166, 'work': 1521, 'related': 1082, 'requirements': 1096, 'delight': 345, 'satisfying': 1156, 'thank': 1343, 'making': 765, 'trip': 1389, 'comfortable': 238, 'plan': 983, 'remanded': 1087, 'office': 889, 'friend': 527, 'ask': 64, 'corporate': 280, 'desk': 352, 'central': 185, 'gym': 587, 'massage': 785, 'facilities': 468, 'relax': 1084, 'slogging': 1222, 'whole': 1501, 'day': 322, 'industries': 652, 'cooperative': 275, 'orchid': 909, 'group': 575, 'across': 9, 'helpful': 602, 'ways': 1484, 'remained': 1086, 'odd': 885, 'hours': 622, 'though': 1358, 'job': 675, 'arranged': 56, 'doctor': 385, 'scheduling': 1162, 'excellent': 447, 'preferred': 1006, 'relatives': 1083, 'always': 24, 'stage': 1269, 'gujarat': 584, 'staffs': 1268, 'easily': 400, 'spoonful': 1262, 'ambiance': 27, 'okay': 895, 'testy': 1341, 'enjoyment': 421, 'beautiful': 104, 'party': 954, 'grt': 576, 'parties': 952, 'frnds': 530, 'here': 605, 'nd': 859, 'different': 361, 'types': 1400, 'cuisines': 301, 'rate': 1053, 'chart': 199, 'quiet': 1048, 'budget': 152, 'single': 1211, 'person': 970, 'slow': 1223, 'la': 699, 'carte': 178, 'took': 1373, 'ok': 894, 'options': 907, 'jain': 674, 'swaminarayan': 1310, 'seeing': 1172, 'reviews': 1110, 'cost': 282, 'neglect': 866, 'able': 1, 'hear': 600, 'tables': 1315, 'saying': 1160, 'waiting': 1468, 'sit': 1212, 'range': 1052, 'meal': 792, 'particularly': 951, 'famous': 475, 'fabulous': 466, 'bitter': 126, 'behave': 109, 'behaviour': 111, 'interioer': 661, 'boring': 138, 'worse': 1524, 'anand': 34, 'quick': 1046, 'mannere': 776, 'trained': 1382, 'prices': 1014, 'sky': 1221, 'match': 787, 'boards': 132, 'outside': 923, 'inedible': 653, 'delivery': 348, 'mixed': 827, 'oily': 893, 'reservations': 1098, 'overcooked': 926, 'card': 175, 'machine': 755, 'fusion': 541, 'cleanliness': 225, 'issues': 666, 'entrance': 427, 'city': 217, 'accessible': 5, 'rail': 1050, 'monopoly': 833, 'bothering': 139, 'what': 1497, 'location': 734, 'quite': 1049, 'spread': 1264, 'terms': 1338, 'non': 877, 'vegetarian': 1448, 'atmosphere': 72, 'costly': 283, 'there': 1348, 'but': 159, 'think': 1355, 'complementary': 249, 'pick': 974, 'drop': 394, 'taxes': 1334, 'medical': 794, 'decorative': 332, 'in': 646, 'area': 53, 'par': 945, 'excellence': 446, 'polite': 997, 'coordial': 276, 'specialy': 1252, 'pinxx': 977, 'reasturant': 1064, 'reccomend': 1065, 'others': 919, 'easy': 401, 'contact': 263, 'understanding': 1408, 'requires': 1097, 'attractive': 75, 'response': 1101, 'id': 634, 'inside': 657, 'premises': 1007, 'spacious': 1245, 'adds': 12, 'value': 1438, 'compared': 246, 'take': 1319, 'feedback': 484, 'message': 810, 'carefully': 177, 'chains': 189, 'problem': 1019, 'congested': 258, 'part': 949, 'find': 493, 'cab': 163, 'auto': 78, 'catch': 179, 'train': 1381, 'bus': 156, 'dish': 379, 'style': 1292, 'setting': 1189, 'disappointed': 373, 'way': 1483, 'particular': 950, 'home': 611, 'branch': 143, 'khodiyar': 688, 'kathiyawadi': 684, 'dhaba': 359, 'among': 30, 'branches': 144, 'south': 1242, 'bajri': 90, 'rotala': 1125, 'properly': 1027, 'rolled': 1121, 'cuisine': 300, 'shold': 1196, 'kathiawadi': 683, 'pickles': 975, 'amazing': 26, 'site': 1213, 'tastey': 1330, 'venue': 1451, 'enjoy': 417, 'rushed': 1135, 'push': 1041, 'finish': 497, 'lots': 742, 'oil': 892, 'put': 1042, 'table': 1314, 'complimentary': 250, 'charged': 195, 'heavily': 601, 'waiter': 1466, 'runs': 1133, 'liked': 721, 'missing': 823, 'dare': 319, 'sunday': 1300, 'saturday': 1157, 'evening': 434, 'ice': 632, 'head': 598, 'water': 1481, 'bring': 150, 'tissues': 1367, 'helter': 603, 'skelter': 1219, 'however': 623, 'sweet': 1311, 'improvement': 645, 'fruits': 533, 'indian': 651, 'upto': 1425, 'expected': 456, 'perfect': 967, 'peoples': 965, 'travels': 1384, 'national': 857, 'highway': 609, 'the': 1346, 'walking': 1469, 'door': 388, 'greeted': 572, 'employee': 413, 'seated': 1169, 'drink': 392, 'taken': 1320, 'maybe': 791, 'hot': 618, 'server': 1183, 'fish': 499, 'plates': 986, 'salads': 1145, 'chain': 188, 'stopped': 1287, 'reasonably': 1063, 'priced': 1013, 'steak': 1281, 'tender': 1337, 'seasoned': 1168, 'exceptionally': 450, 'avoid': 82, 'yum': 1541, 'promos': 1024, 'sign': 1202, 'email': 410, 'club': 230, 'sox': 1243, 'win': 1505, 'kids': 690, 'kid': 689, 'places': 981, 'three': 1359, 'cheese': 206, 'nachos': 853, 'frequently': 523, 'season': 1166, 'specialties': 1250, 'baked': 91, 'stuffed': 1291, 'clams': 218, 'appetizer': 46, 'excel': 445, 'specials': 1249, 'personnel': 972, 'satisfactory': 1152, 'worrying': 1523, 'pocket': 994, 'delivers': 347, 'wrong': 1533, 'vegans': 1445, 'affordable': 14, 'loved': 745, 'gives': 551, 'online': 901, 'fantastic': 476, 'flavour': 503, 'safe': 1140, 'precautions': 1004, 'wearing': 1486, 'gloves': 554, 'mask': 783, 'celebrate': 182, 'satisfied': 1154, 'unique': 1416, 'cool': 272, 'authentic': 77, 'true': 1390, 'royality': 1129, 'bunch': 154, 'expensive': 457, 'roti': 1126, 'cooked': 270, 'sumptuous': 1299, 'luxurious': 754, 'cheers': 205, 'overpriced': 928, 'million': 814, 'degraded': 338, 'try': 1392, 'recipes': 1070, 'brunch': 151, 'lovely': 746, 'couple': 287, 'can': 167, 'anything': 42, 'worthy': 1528, 'management': 769, 'reffer': 1075, 'gujarati': 585, 'grab': 563, 'paratha': 946, 'daily': 315, 'test': 1340, 'assigned': 68, 'left': 709, 'coming': 239, 'mind': 815, 'refreshing': 1077, 'dissapointed': 382, 'following': 509, 'covid': 294, 'guidelines': 581, 'moving': 844, 'masks': 784, 'allowing': 19, 'enter': 425, 'temperature': 1336, 'situation': 1215, 'sanitizer': 1148, 'risk': 1116, 'pulav': 1036, 'mins': 817, 'asked': 65, 'veryy': 1453, 'cleaned': 223, 'unhygiene': 1415, 'follow': 507, 'gravy': 569, 'sabji': 1136, 'ridiculuous': 1114, 'sense': 1178, 'seem': 1173, 'amenities': 29, 'foodie': 512, 'lover': 747, 'behavior': 110, 'changed': 192, 'years': 1537, 'just': 678, 'fine': 494, 'importantly': 641, 'consistency': 260, 'usually': 1433, 'pujabi': 1034, 'tried': 1387, 'biryani': 124, 'meetha': 798, 'paan': 931, 'coollin': 273, 'scrumptious': 1164, 'handling': 593, 'care': 176, 'please': 990, 'bed': 107, 'sence': 1177, 'sigdi': 1201, 'feeling': 486, 'weirdest': 1490, 'plz': 993, 'dnt': 384, 'felt': 488, 'insulted': 660, 'loooking': 740, 'therefore': 1349, 'suggest': 1296, 'white': 1499, 'collor': 234, 'man': 767, 'satisfide': 1153, 'away': 83, 'didn': 360, 'communicate': 242, 'anyway': 43, 'thanks': 1344, 'mistakes': 825, 'prefer': 1005, 'fasting': 479, 'first': 498, 'entry': 428, 'totally': 1377, 'vasi': 1441, 'overcrowded': 927, 'shouting': 1198, 'market': 780, 'loads': 730, 'expectation': 454, 'mess': 809, 'restorent': 1106, 'half': 589, 'spent': 1256, 'per': 966, 'soda': 1230, 'sweets': 1312, 'you': 1540, 'rush': 1134, 'somuch': 1235, 'everytime': 442, 'use': 1429, 'common': 241, 'arrange': 55, 'experiences': 460, 'expectations': 455, 'giving': 552, 'another': 39, 'item': 670, 'minute': 818, 'bhaji': 117, 'very': 1452, 'experiance': 458, 'recently': 1068, 'outstanding': 924, 'ideal': 636, 'else': 409, 'lower': 751, 'oldest': 897, 'ultimate': 1402, 'takeout': 1321, 'restuarant': 1107, 'bas': 99, 'everything': 441, 'og': 891, 'real': 1059, 'safty': 1142, 'hyigene': 631, 'grateful': 568, 'sure': 1306, 'reserve': 1099, 'festival': 489, 'panjabi': 941, 'drinks': 393, 'they': 1350, 'catering': 180, 'enroute': 424, 'shamlaji': 1194, 'class': 219, 'crowd': 297, 'manage': 768, 'environment': 429, 'masala': 782, 'papad': 943, 'fav': 481, 'fun': 537, 'grate': 567, 'economic': 406, 'vegetables': 1447, 'joint': 676, 'servered': 1184, 'ages': 17, 'highly': 608, 'speedy': 1254, 'offer': 886, 'multiple': 847, 'cusins': 304, 'organise': 916, 'dal': 317, 'makhani': 764, 'palak': 935, 'enjoying': 420, 'sugar': 1295, 'every': 438, 'raw': 1057, 'material': 788, 'standard': 1273, 'brands': 146, 'cooking': 271, 'used': 1430, 'sahyog': 1143, 'resturant': 1108, 'undoubtedly': 1411, 'brand': 145, 'leader': 706, 'vegan': 1444, 'avaliable': 80, 'usual': 1432, 'appreciate': 49, 'opinion': 905, 'ur': 1427, 'wonderful': 1516, 'vip': 1456, 'visiting': 1460, 'since': 1205, 'wow': 1530, 'wide': 1502, 'life': 715, 'tatsty': 1332, 'delicioues': 343, 'nonsense': 879, 'that': 1345, 'expect': 453, 'eaten': 404, 'norm': 880, 'lightning': 718, 'tava': 1333, 'rotis': 1127, 'papads': 944, 'buttermilk': 161, 'steamed': 1282, 'rice': 1112, 'vegetable': 1446, 'fry': 534, 'spend': 1255, 'thing': 1353, 'planning': 984, 'move': 842, 'soo': 1238, 'loving': 749, 'although': 23, 'busy': 158, 'everyday': 439, 'subji': 1293, 'favorite': 482, 'helthy': 604, 'kaju': 681, 'kari': 682, 'nearby': 861, 'attraction': 74, 'includes': 648, 'amul': 32, 'dairy': 316, 'floors': 506, 'mustvisit': 851, 'hygenic': 628, 'basement': 100, 'lighting': 717, 'decoration': 331, 'birthday': 123, 'nadiad': 854, 'still': 1284, 'maintaining': 761, 'fame': 473, 'requested': 1094, 'huge': 624, 'artificial': 60, 'fall': 472, 'wall': 1470, 'calm': 165, 'layout': 705, 'intuitive': 664, 'play': 987, 'age': 16, 'kitty': 694, 'provides': 1031, 'indiad': 650, 'dosa': 389, 'god': 556, 'bless': 129, 'spring': 1265, 'roll': 1120, 'weekend': 1488, 'old': 896, 'gold': 560, 'welcome': 1491, 'withdrink': 1513, 'frymes': 535, 'doubt': 390, 'woodland': 1518, 'dahi': 312, 'puri': 1040, 'awsome': 86, 'shout': 1197, 'dinning': 370, 'gets': 548, 'gatherings': 545, 'cute': 307, 'execellent': 451, 'commendable': 240, 'interiors': 663, 'star': 1275, 'charging': 197, 'plastic': 985, 'tin': 1366, 'whereas': 1498, 'discount': 377, 'corona': 279, 'pandemic': 938, 'finest': 495, 'freshly': 525, 'juices': 677, 'etc': 431, 'specious': 1253, 'manners': 777, 'might': 812, 'basically': 101, 'rajkot': 1051, 'tournament': 1378, 'gave': 546, 'little': 727, 'kitchen': 693, 'reality': 1060, 'rats': 1056, 'roam': 1119, 'floor': 505, 'bakwas': 92, 'dull': 396, 'bonus': 135, 'tadka': 1316, 'rest': 1102, 'foodies': 513, 'decide': 327, 'embracing': 412, 'consecutive': 259, 'days': 323, 'review': 1109, 'turned': 1394, 'zomato': 1545, 'west': 1495, 'conversations': 268, 'mostly': 839, 'couneter': 286, 'boy': 142, 'kinda': 692, 'closing': 229, 'competent': 247, 'bheaviour': 120, 'entered': 426, 'wanted': 1473, 'leave': 708, 'frozen': 532, 'chargeable': 194, 'panir': 940, 'tanddor': 1324, 'naan': 852, 'past': 955, 'uptoo': 1426, 'likes': 722, 'peace': 961, 'sizzler': 1217, 'blowing': 130, 'organising': 917, 'official': 890, 'social': 1229, 'functions': 540, 'function': 538, 'functionality': 539, 'lights': 719, 'deem': 334, 'candles': 170, 'live': 728, 'banquet': 95, 'approximately': 51, 'capacity': 173, 'personal': 971, 'events': 436, 'goid': 558, 'cooparetive': 274, 'appetizers': 47, 'nothing': 883, 'peculiar': 963, 'miss': 822, 'desserts': 355, 'dimly': 366, 'lit': 726, 'deep': 335, 'end': 416, 'glass': 553, 'stars': 1276, 'five': 500, 'seminar': 1176, 'meeting': 799, 'celebration': 183, 'anniversary': 37, 'top': 1374, 'musicians': 849, 'wooooo': 1519, 'large': 700, 'decided': 328, 'partition': 953, 'singing': 1210, 'mood': 836, 'light': 716, 'audiance': 76, 'limit': 723, 'dear': 325, 'iz': 672, 'cozy': 295, 'decorated': 330, 'ballons': 93, 'courteous': 291, 'halls': 591, 'romantic': 1122, 'mention': 805, 'candle': 169, 'thursdays': 1361, 'thier': 1352, 'matka': 789, 'dum': 397, 'hyderabad': 627, 'visitors': 1461, 'singer': 1208, 'sing': 1207, 'song': 1236, 'accomedation': 6, 'supperb': 1303, 'pleasing': 991, 'performing': 968, 'guitar': 582, 'selection': 1175, 'ace': 8, 'satisfy': 1155, 'palate': 936, 'mall': 766, 'behin': 112, 'windows': 1506, 'watching': 1480, 'movie': 843, 'cinepolis': 216, 'consistently': 262, 'two': 1398, 'reserved': 1100, 'round': 1128, 'year': 1536, 'balloons': 94, 'twosome': 1399, 'attained': 73, 'soft': 1231, 'guitarist': 583, 'melody': 802, 'classic': 220, 'spot': 1263, 'dates': 321, 'suitable': 1298, 'total': 1376, 'justice': 679, 'dil': 364, 'se': 1165, 'point': 996, 'couples': 288, 'singers': 1209, 'playing': 988, 'melodious': 801, 'songs': 1237, 'comes': 236, 'step': 1283, 'specialty': 1251, 'renovated': 1088, 'looks': 739, 'corner': 278, 'billing': 122, 'offered': 887, 'forget': 519, 'offers': 888, 'date': 320, 'banquets': 96, 'enough': 422, 'dissatisfied': 383, 'luck': 752, 'ones': 900, 'justifies': 680, 'conferences': 254, 'presentation': 1010, 'meet': 797, 'ample': 31, 'convinently': 269, 'managements': 770, 'severing': 1190, 'evryone': 444, 'conducting': 252, 'persons': 973, 'conference': 253, 'booking': 137, 'catras': 181, 'gud': 578, 'discipline': 376, 'celebrations': 184, 'wanna': 1471, 'theme': 1347, 'prizes': 1018, 'yummmyyyyy': 1542, 'event': 435, 'sarvices': 1150, 'clinnce': 227, 'osm': 918, 'moments': 831, 'given': 550, 'chairs': 190, 'treatment': 1386, 'satisfaction': 1151, 'surat': 1305, 'understands': 1409, 'importance': 639, 'privacy': 1017, 'effect': 407, 'design': 351, 'an': 33, 'orange': 908, 'courtyard': 292, 'sarves': 1149, 'barbecue': 97, 'separate': 1179, 'ground': 574, 'icecream': 633, 'candy': 171, 'show': 1199, 'dance': 318, 'weekends': 1489, 'barbeque': 98, 'simply': 1204, 'exceptional': 449, 'humble': 625, 'express': 461, 'feelings': 487, 'bland': 127, 'flavorless': 502, 'enriching': 423, 'replenished': 1092, 'spirits': 1258, 'devoted': 358, 'associates': 69, 'aman': 25, 'beyond': 116, 'honor': 613, 'spoiled': 1260, 'charges': 196, 'applied': 48, 'ordering': 912, 'doesnt': 386, 'idea': 635, 'zero': 1544, 'rating': 1055, 'box': 141, 'noisy': 875, 'aspects': 67, 'digital': 363, 'rs': 1130, 'cutlery': 308, 'disposable': 381, 'lassi': 701, 'pulse': 1037, 'confused': 256, 'word': 1520, 'grand': 566, 'otherwise': 920, 'regret': 1080, 'insects': 656, 'healthy': 599, 'disagree': 372, 'strategy': 1289, 'farsan': 477, 'khavano': 687, 'useless': 1431, 'bogus': 134, 'staaff': 1266, 'fuully': 542, 'compare': 245, 'seriously': 1180, 'upset': 1424, 'wife': 1503, 'tandoori': 1325, 'writing': 1531, 'bhayanak': 119, 'upgrade': 1423, 'normal': 881, 'blunt': 131, 'greate': 571, 'guys': 586, 'asap': 63, 'cafe': 164, 'takes': 1322, 'minimal': 816, 'welcoming': 1492, 'creamy': 296, 'shakes': 1193, 'delhiites': 341, 'tafri': 1317, 'tafribaaz': 1318, 'hesitation': 606, 'apperciate': 45, 'oreo': 915, 'shake': 1192, 'safety': 1141, 'utmost': 1434, 'standards': 1274, 'astonishing': 70, 'decor': 329, 'medley': 796, 'wish': 1510, 'wonderfull': 1517, 'hangout': 594, 'freinds': 522, 'll': 729, 'definetly': 336, 'outlet': 922, 'understood': 1410, 'deal': 324, 'demand': 349, 'cheaper': 201, 'street': 1290, 'finger': 496, 'licking': 714, 'pricey': 1015, 'actually': 10, 'stalls': 1271, 'egg': 408, 'absolutely': 2, 'instructions': 659, 'sincerely': 1206, 'followed': 508, 'mother': 840, 'honoured': 614, 'vouchers': 1463, 'portions': 1002, 'marks': 781, 'pasta': 956, 'tweaking': 1395, 'restauarant': 1103, 'exotic': 452, 'unmatched': 1418, 'fond': 510, 'italian': 668, 'knew': 695, 'artusi': 61, 'truly': 1391, 'complain': 248, 'tastes': 1329, 'delhi': 340, 'thoroughly': 1357, 'hit': 610, 'fathers': 480, 'multinational': 846, 'wine': 1507, 'dessert': 354, 'delicacies': 342, 'cosy': 284, 'looking': 738, 'extensive': 462, 'pastas': 957, 'portion': 1001, 'sizes': 1216, 'fairly': 471, 'shared': 1195, 'owned': 929, 'foreigner': 517, 'straight': 1288, 'italy': 669, 'school': 1163, 'listen': 725, 'notch': 882, 'providig': 1032, 'waited': 1465, 'tries': 1388, 'prepare': 1008, 'failed': 470, 'charming': 198, 'wines': 1508, 'knowledgeable': 697, 'recommendations': 1072, 'chill': 211, 'classics': 221, 'twists': 1397, 'seasonal': 1167, 'continue': 266, 'nicely': 870, 'owner': 930, 'moderate': 828, 'soups': 1241, 'uttpam': 1436, 'smiling': 1227, 'faces': 467, 'within': 1514, 'packed': 933, 'seems': 1174, 'olives': 898, 'veggies': 1449, 'madrasi': 757, 'dabli': 310, 'pav': 959, 'unappealing': 1403, 'plus': 992, 'sort': 1239, 'questionable': 1045, 'crummy': 299, 'stomach': 1285, 'professionally': 1023, 'run': 1132, 'surprisingly': 1309, 'inconspicuous': 649, 'inn': 654, 'adults': 13, 'panner': 942, 'native': 858, 'dahiwada': 314, 'rawa': 1058, 'nominal': 876, 'oooooo': 902, 'palce': 937, 'dahivada': 313, 'uttapam': 1435, 'menduvada': 804, 'delectable': 339, 'repeat': 1089, 'despite': 353, 'included': 647, 'closed': 228, 'website': 1487, 'permanently': 969, 'honestly': 612, 'unfortunately': 1412, 'crowded': 298, 'noise': 874, 'impossible': 642, 'savour': 1158, 'sadly': 1139, 'willing': 1504, 'uncommon': 1404, 'alcohol': 18, 'legal': 710, 'right': 1115, 'unparalleled': 1419, 'filled': 490, 'fried': 526, 'snacksbaby': 1228, 'corn': 277, 'aaloo': 0, 'say': 1159, 'visist': 1457, 'instead': 658, 'grade': 564, 'understand': 1407, 'placed': 980, 'april': 52, 'dime': 365, 'nobody': 873, 'asks': 66, 'repeatedly': 1090, 'hand': 592, 'written': 1532, 'hour': 621, 'dressed': 391, 'professional': 1021, 'speak': 1246, 'loud': 743, 'none': 878, 'according': 7, 'whoever': 1500, 'goes': 557, 'suggestion': 1297, 'ro': 1117, 'buy': 162, 'bottle': 140, 'worthless': 1527, 'suffering': 1294, 'pukhtaan': 1035, 'choose': 215, 'etiquette': 432, 'manner': 775, 'co': 231, 'ordination': 914, 'bbq': 102, 'unhealthy': 1414, 'idli': 637, 'vada': 1437, 'gst': 577, 'spoon': 1261, 'wishful': 1511, 'contity': 267, 'cheat': 202, 'payment': 960, 'mix': 826, 'confuses': 257, 'third': 1356, 'replaced': 1091, 'hopeless': 615, 'breakfasts': 149, 'anywhere': 44, 'cape': 174, 'affordably': 15, 'cheesy': 207, 'garlic': 543, 'disaster': 375, 'states': 1279, 'masters': 786, 'compact': 244, 'ventilation': 1450, 'eyes': 465, 'burning': 155, 'throughout': 1360, 'clear': 226, 'meaning': 793, 'filling': 491, 'courses': 290, 'untrained': 1421}\n",
      "  (0, 79)\t1\n",
      "  (0, 224)\t1\n",
      "  (0, 478)\t1\n",
      "  (0, 511)\t1\n",
      "  (0, 531)\t1\n",
      "  (0, 561)\t1\n",
      "  (0, 570)\t1\n",
      "  (0, 620)\t1\n",
      "  (0, 910)\t1\n",
      "  (0, 948)\t1\n",
      "  (0, 1181)\t1\n",
      "  (0, 1200)\t1\n",
      "  (0, 1326)\t1\n",
      "  (0, 1417)\t1\n",
      "  (1, 50)\t1\n",
      "  (1, 186)\t1\n",
      "  (1, 511)\t1\n",
      "  (1, 524)\t1\n",
      "  (1, 561)\t3\n",
      "  (1, 671)\t1\n",
      "  (1, 1039)\t1\n",
      "  (1, 1043)\t1\n",
      "  (1, 1104)\t1\n",
      "  (1, 1185)\t1\n",
      "  (1, 1326)\t1\n",
      "  :\t:\n",
      "  (1016, 290)\t1\n",
      "  (1016, 497)\t1\n",
      "  (1016, 570)\t1\n",
      "  (1016, 758)\t1\n",
      "  (1016, 845)\t1\n",
      "  (1016, 899)\t1\n",
      "  (1016, 1044)\t1\n",
      "  (1016, 1277)\t1\n",
      "  (1016, 1359)\t1\n",
      "  (1016, 1398)\t1\n",
      "  (1016, 1428)\t1\n",
      "  (1017, 226)\t1\n",
      "  (1017, 617)\t1\n",
      "  (1017, 696)\t1\n",
      "  (1017, 793)\t1\n",
      "  (1018, 511)\t1\n",
      "  (1018, 1267)\t1\n",
      "  (1018, 1270)\t1\n",
      "  (1018, 1420)\t1\n",
      "  (1018, 1421)\t1\n",
      "  (1019, 297)\t1\n",
      "  (1019, 433)\t1\n",
      "  (1019, 1186)\t1\n",
      "  (1019, 1223)\t1\n",
      "  (1019, 1358)\t1\n"
     ]
    }
   ],
   "source": [
    "#tokenize a collection of text documents and build a vocabulary of known words\n",
    "#An encoded vector is returned with a length of the entire vocabulary and an integer count for the number of times each word appeared in the document.\n",
    "from sklearn.feature_extraction.text import CountVectorizer\n",
    "# create the transform\n",
    "wordvector = CountVectorizer()\n",
    "# tokenize and build vocab\n",
    "finalwordvector = wordvector.fit(data['review_clean'])\n",
    "# summarize\n",
    "print(wordvector.vocabulary_)\n",
    "# encode document\n",
    "#bag of words - focuses on the occurrence of words in a document. Assigns each word a unique number.\n",
    "bagofwords = finalwordvector.transform(data['review_clean'])\n",
    "print(bagofwords)"
   ]
  },
  {
   "cell_type": "code",
   "execution_count": 12,
   "metadata": {
    "scrolled": true
   },
   "outputs": [
    {
     "name": "stdout",
     "output_type": "stream",
     "text": [
      "  (0, 1417)\t0.35713379896917186\n",
      "  (0, 1326)\t0.15933464812040873\n",
      "  (0, 1200)\t0.3371203260744931\n",
      "  (0, 1181)\t0.26108504102472796\n",
      "  (0, 948)\t0.28289359528720465\n",
      "  (0, 910)\t0.26108504102472796\n",
      "  (0, 620)\t0.3229205410765622\n",
      "  (0, 570)\t0.16979111894433416\n",
      "  (0, 561)\t0.10997716667318812\n",
      "  (0, 531)\t0.35713379896917186\n",
      "  (0, 511)\t0.08600014503272962\n",
      "  (0, 478)\t0.2729886307314956\n",
      "  (0, 224)\t0.3229205410765622\n",
      "  (0, 79)\t0.24107156813004918\n",
      "  (1, 1326)\t0.17882551987470954\n",
      "  (1, 1185)\t0.36242232507144284\n",
      "  (1, 1104)\t0.1887245543531365\n",
      "  (1, 1043)\t0.16914668013888517\n",
      "  (1, 1039)\t0.350060784993794\n",
      "  (1, 671)\t0.29712807440102046\n",
      "  (1, 561)\t0.3702909110481424\n",
      "  (1, 524)\t0.3063824120260001\n",
      "  (1, 511)\t0.09652025360583476\n",
      "  (1, 186)\t0.40082077576265673\n",
      "  (1, 50)\t0.40082077576265673\n",
      "  :\t:\n",
      "  (1016, 1428)\t0.27548042004696244\n",
      "  (1016, 1398)\t0.3557080431298029\n",
      "  (1016, 1359)\t0.3407253282241409\n",
      "  (1016, 1277)\t0.32910383167454926\n",
      "  (1016, 1044)\t0.2569045006179799\n",
      "  (1016, 899)\t0.21703831656804487\n",
      "  (1016, 845)\t0.23938075451867769\n",
      "  (1016, 758)\t0.3196083776015182\n",
      "  (1016, 570)\t0.17915284837249196\n",
      "  (1016, 497)\t0.3557080431298029\n",
      "  (1016, 290)\t0.3768249937524256\n",
      "  (1017, 793)\t0.544843119038369\n",
      "  (1017, 696)\t0.4665995031823739\n",
      "  (1017, 617)\t0.43425436659064803\n",
      "  (1017, 226)\t0.544843119038369\n",
      "  (1018, 1421)\t0.5927348243230756\n",
      "  (1018, 1420)\t0.5595184713075884\n",
      "  (1018, 1270)\t0.49010646944334785\n",
      "  (1018, 1267)\t0.2739106534886374\n",
      "  (1018, 511)\t0.14273440655818254\n",
      "  (1019, 1358)\t0.536307544270868\n",
      "  (1019, 1223)\t0.4611936119514549\n",
      "  (1019, 1186)\t0.2124000300608546\n",
      "  (1019, 433)\t0.4085769394393433\n",
      "  (1019, 297)\t0.536307544270868\n"
     ]
    }
   ],
   "source": [
    "#Term Frequency – Inverse Document Frequency\n",
    "#Term Frequency: This summarizes how often a given word appears within a document.\n",
    "#Inverse Document Frequency: This downscales words that appear a lot across documents.\n",
    "from sklearn.feature_extraction.text import TfidfTransformer\n",
    "tfidf = TfidfTransformer().fit(bagofwords)\n",
    "feature = tfidf.transform(bagofwords)\n",
    "print(feature)"
   ]
  },
  {
   "cell_type": "code",
   "execution_count": 13,
   "metadata": {},
   "outputs": [
    {
     "data": {
      "text/html": [
       "<div>\n",
       "<style scoped>\n",
       "    .dataframe tbody tr th:only-of-type {\n",
       "        vertical-align: middle;\n",
       "    }\n",
       "\n",
       "    .dataframe tbody tr th {\n",
       "        vertical-align: top;\n",
       "    }\n",
       "\n",
       "    .dataframe thead th {\n",
       "        text-align: right;\n",
       "    }\n",
       "</style>\n",
       "<table border=\"1\" class=\"dataframe\">\n",
       "  <thead>\n",
       "    <tr style=\"text-align: right;\">\n",
       "      <th></th>\n",
       "      <th>reviews</th>\n",
       "      <th>liked</th>\n",
       "      <th>review_clean</th>\n",
       "    </tr>\n",
       "  </thead>\n",
       "  <tbody>\n",
       "    <tr>\n",
       "      <th>1</th>\n",
       "      <td>Food was good in taste unlike other hotels. Th...</td>\n",
       "      <td>1</td>\n",
       "      <td>food good taste unlike hotels serve fast order...</td>\n",
       "    </tr>\n",
       "    <tr>\n",
       "      <th>2</th>\n",
       "      <td>They serves good, pure and fresh food with qua...</td>\n",
       "      <td>1</td>\n",
       "      <td>serves good pure fresh food quality centric ap...</td>\n",
       "    </tr>\n",
       "    <tr>\n",
       "      <th>3</th>\n",
       "      <td>The property is located on the main road and i...</td>\n",
       "      <td>1</td>\n",
       "      <td>property located main road well known locality...</td>\n",
       "    </tr>\n",
       "    <tr>\n",
       "      <th>4</th>\n",
       "      <td>I am regular guest of this hotel but my recent...</td>\n",
       "      <td>1</td>\n",
       "      <td>regular guest hotel recent visit comfort nice ...</td>\n",
       "    </tr>\n",
       "    <tr>\n",
       "      <th>5</th>\n",
       "      <td>It was a awesome experience to have a dinner a...</td>\n",
       "      <td>1</td>\n",
       "      <td>awesome experience dinner restaurant reasonabl...</td>\n",
       "    </tr>\n",
       "  </tbody>\n",
       "</table>\n",
       "</div>"
      ],
      "text/plain": [
       "                                             reviews  liked  \\\n",
       "1  Food was good in taste unlike other hotels. Th...      1   \n",
       "2  They serves good, pure and fresh food with qua...      1   \n",
       "3  The property is located on the main road and i...      1   \n",
       "4  I am regular guest of this hotel but my recent...      1   \n",
       "5  It was a awesome experience to have a dinner a...      1   \n",
       "\n",
       "                                        review_clean  \n",
       "1  food good taste unlike hotels serve fast order...  \n",
       "2  serves good pure fresh food quality centric ap...  \n",
       "3  property located main road well known locality...  \n",
       "4  regular guest hotel recent visit comfort nice ...  \n",
       "5  awesome experience dinner restaurant reasonabl...  "
      ]
     },
     "execution_count": 13,
     "metadata": {},
     "output_type": "execute_result"
    }
   ],
   "source": [
    "data.head()"
   ]
  },
  {
   "cell_type": "code",
   "execution_count": 14,
   "metadata": {},
   "outputs": [
    {
     "name": "stdout",
     "output_type": "stream",
     "text": [
      "Training score= 0.9368191721132898  Testing score= 0.9019607843137255\n"
     ]
    }
   ],
   "source": [
    "from sklearn.model_selection import train_test_split\n",
    "from sklearn.naive_bayes import MultinomialNB\n",
    "x_train,x_test,y_train,y_test=train_test_split(feature,data['liked'],test_size=0.1,random_state=71)\n",
    "mnb = MultinomialNB().fit(feature,data['liked'])\n",
    "mnb.fit(x_train,y_train)\n",
    "print(\"Training score=\",mnb.score(x_train,y_train),\" Testing score=\",mnb.score(x_test,y_test))"
   ]
  },
  {
   "cell_type": "code",
   "execution_count": 15,
   "metadata": {},
   "outputs": [
    {
     "data": {
      "image/png": "[encoded data removed]",
      "text/plain": [
       "<Figure size 432x432 with 2 Axes>"
      ]
     },
     "metadata": {
      "needs_background": "light"
     },
     "output_type": "display_data"
    }
   ],
   "source": [
    "from sklearn.metrics import confusion_matrix\n",
    "cm = confusion_matrix(y_test,mnb.predict(x_test))\n",
    "\n",
    "import seaborn as sns\n",
    "f, ax = mltpt.subplots(figsize =(6,6))\n",
    "sns.heatmap(cm,annot = True,linewidths=0.5,linecolor=\"red\",fmt = \".0f\",ax=ax)\n",
    "mltpt.title(\"Confusion Metrix\")\n",
    "mltpt.xlabel(\"predicted y values\")\n",
    "mltpt.ylabel(\"real y values\")\n",
    "mltpt.show()"
   ]
  },
  {
   "cell_type": "code",
   "execution_count": 16,
   "metadata": {},
   "outputs": [
    {
     "name": "stdout",
     "output_type": "stream",
     "text": [
      "Training score= 0.6241830065359477  Testing score= 0.5\n"
     ]
    }
   ],
   "source": [
    "from sklearn.model_selection import train_test_split\n",
    "from sklearn.svm import SVC\n",
    "x_train,x_test,y_train,y_test=train_test_split(feature,data['liked'],test_size=0.1,random_state=96)\n",
    "model = SVC(kernel='sigmoid',gamma='auto')\n",
    "model.fit(x_train,y_train)\n",
    "print(\"Training score=\",model.score(x_train,y_train),\" Testing score=\",model.score(x_test,y_test))"
   ]
  },
  {
   "cell_type": "code",
   "execution_count": 17,
   "metadata": {},
   "outputs": [
    {
     "data": {
      "image/png": "[encoded data removed]",
      "text/plain": [
       "<Figure size 432x432 with 2 Axes>"
      ]
     },
     "metadata": {
      "needs_background": "light"
     },
     "output_type": "display_data"
    }
   ],
   "source": [
    "from sklearn.metrics import confusion_matrix\n",
    "cm = confusion_matrix(y_test,model.predict(x_test))\n",
    "\n",
    "import seaborn as sns\n",
    "f, ax = mltpt.subplots(figsize =(6,6))\n",
    "sns.heatmap(cm,annot = True,linewidths=0.5,linecolor=\"red\",fmt = \".0f\",ax=ax)\n",
    "mltpt.title(\"Confusion Metrix\")\n",
    "mltpt.xlabel(\"predicted y values\")\n",
    "mltpt.ylabel(\"real y values\")\n",
    "mltpt.show()"
   ]
  },
  {
   "cell_type": "code",
   "execution_count": 18,
   "metadata": {},
   "outputs": [
    {
     "name": "stdout",
     "output_type": "stream",
     "text": [
      "Training score= 0.9522058823529411  Testing score= 0.8823529411764706\n"
     ]
    }
   ],
   "source": [
    "from sklearn.model_selection import train_test_split\n",
    "from sklearn.linear_model import LogisticRegression\n",
    "x_train,x_test,y_train,y_test=train_test_split(feature,data['liked'],test_size=0.2,random_state=6)\n",
    "lr=LogisticRegression()\n",
    "lr.fit(x_train,y_train)\n",
    "print(\"Training score=\",lr.score(x_train,y_train),\" Testing score=\",lr.score(x_test,y_test))"
   ]
  },
  {
   "cell_type": "code",
   "execution_count": 19,
   "metadata": {},
   "outputs": [
    {
     "data": {
      "image/png": "[encoded data removed]",
      "text/plain": [
       "<Figure size 432x432 with 2 Axes>"
      ]
     },
     "metadata": {
      "needs_background": "light"
     },
     "output_type": "display_data"
    }
   ],
   "source": [
    "from sklearn.metrics import confusion_matrix\n",
    "cm = confusion_matrix(y_test,lr.predict(x_test))\n",
    "\n",
    "import seaborn as sns\n",
    "f, ax = mltpt.subplots(figsize =(6,6))\n",
    "sns.heatmap(cm,annot = True,linewidths=0.5,linecolor=\"red\",fmt = \".0f\",ax=ax)\n",
    "mltpt.title(\"Confusion Metrix\")\n",
    "mltpt.xlabel(\"predicted y values\")\n",
    "mltpt.ylabel(\"real y values\")\n",
    "mltpt.show()"
   ]
  },
  {
   "cell_type": "code",
   "execution_count": 20,
   "metadata": {},
   "outputs": [
    {
     "data": {
      "image/png": "[encoded data removed]",
      "text/plain": [
       "<Figure size 432x288 with 1 Axes>"
      ]
     },
     "metadata": {
      "needs_background": "light"
     },
     "output_type": "display_data"
    }
   ],
   "source": [
    "y = np.array([mnb.score(x_test,y_test),model.score(x_test,y_test),lr.score(x_test,y_test)])\n",
    "x = [\"MultinomialNaiveBayes\", \"Support Vector Classifier\", \"Logistic Regression\"]\n",
    "mltpt.bar(x,y,width=0.3,color=['red','green','blue'])\n",
    "mltpt.title(\"Comparison of Classification Algorithms\")\n",
    "mltpt.xlabel(\"Classification\")\n",
    "mltpt.ylabel(\"Testing Score\")\n",
    "mltpt.show()"
   ]
  },
  {
   "cell_type": "code",
   "execution_count": 21,
   "metadata": {},
   "outputs": [],
   "source": [
    "import pickle\n",
    "pickle.dump(mnb,open('RestReviewmodel','wb'))"
   ]
  },
  {
   "cell_type": "code",
   "execution_count": 22,
   "metadata": {},
   "outputs": [],
   "source": [
    "import pickle\n",
    "model=pickle.load(open('RestReviewmodel','rb'))"
   ]
  },
  {
   "cell_type": "code",
   "execution_count": 23,
   "metadata": {},
   "outputs": [
    {
     "name": "stdout",
     "output_type": "stream",
     "text": [
      "Enter your reviewAmazing food. Very very filling\n"
     ]
    }
   ],
   "source": [
    "a=input(\"Enter your review\")"
   ]
  },
  {
   "cell_type": "code",
   "execution_count": 24,
   "metadata": {},
   "outputs": [
    {
     "name": "stdout",
     "output_type": "stream",
     "text": [
      "[1]\n"
     ]
    }
   ],
   "source": [
    "l1 = clean_text(a)\n",
    "l=[l1]\n",
    "l2 = finalwordvector.transform(l)\n",
    "l3 = tfidf.transform(l2)\n",
    "review_rate = model.predict(l3[0])\n",
    "print(review_rate)"
   ]
  },
  {
   "cell_type": "code",
   "execution_count": null,
   "metadata": {},
   "outputs": [],
   "source": []
  }
 ],
 "metadata": {
  "kernelspec": {
   "display_name": "Python 3",
   "language": "python",
   "name": "python3"
  },
  "language_info": {
   "codemirror_mode": {
    "name": "ipython",
    "version": 3
   },
   "file_extension": ".py",
   "mimetype": "text/x-python",
   "name": "python",
   "nbconvert_exporter": "python",
   "pygments_lexer": "ipython3",
   "version": "3.7.6"
  }
 },
 "nbformat": 4,
 "nbformat_minor": 2
}
